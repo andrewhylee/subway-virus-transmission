{
 "metadata": {
  "language_info": {
   "codemirror_mode": {
    "name": "ipython",
    "version": 3
   },
   "file_extension": ".py",
   "mimetype": "text/x-python",
   "name": "python",
   "nbconvert_exporter": "python",
   "pygments_lexer": "ipython3",
   "version": "3.6.9-final"
  },
  "orig_nbformat": 2,
  "kernelspec": {
   "name": "python3",
   "display_name": "Python 3",
   "language": "python"
  }
 },
 "nbformat": 4,
 "nbformat_minor": 2,
 "cells": [
  {
   "cell_type": "code",
   "execution_count": 3,
   "metadata": {},
   "outputs": [],
   "source": [
    "# Import all necessary Libraries\n",
    "import numpy as np\n",
    "import pandas as pd\n",
    "import sys\n",
    "import csv\n",
    "import matplotlib.pyplot as plt"
   ]
  },
  {
   "cell_type": "code",
   "execution_count": 4,
   "metadata": {},
   "outputs": [],
   "source": [
    "# Dataframe building function\n",
    "\n",
    "def dataframeBuilder(csvFilename):\n",
    "    # Read in the CSV File\n",
    "    df = pd.read_csv(csvFilename)\n",
    "    # Drop the 'total_ride_time' column as it did not aid in variance reduction\n",
    "    df.drop('total_ride_time', inplace=True, axis=1)\n",
    "    # Create the averaged random variable using actual and antithetic results\n",
    "    df['sim_avg'] = ((df['sim_results'] + df['sim_results_anti'])/2)\n",
    "    \n",
    "    # Finding the optimal c value for lowest variance in our new control random variable\n",
    "    var_of_x = df.total_overpacked_time.var()\n",
    "    cov_of_x_and_y = df.total_overpacked_time.cov(df.sim_results)\n",
    "    c = -cov_of_x_and_y/var_of_x\n",
    "\n",
    "    # Add in new column of values of our control variable\n",
    "    df['control_var'] = df['sim_results'] + (c*(df.total_overpacked_time-df.total_overpacked_time.mean()))\n",
    "\n",
    "    # Show variances of all columns\n",
    "    print(df.var())\n",
    "\n",
    "    return df"
   ]
  },
  {
   "cell_type": "code",
   "execution_count": 5,
   "metadata": {},
   "outputs": [],
   "source": [
    "def makeListOfDataFrames(filenames):\n",
    "    dataframeList = list()\n",
    "    for name in filenames:\n",
    "        df = dataframeBuilder(name)\n",
    "        dataframeList.append(df)\n",
    "    return dataframeList"
   ]
  },
  {
   "cell_type": "code",
   "execution_count": 6,
   "metadata": {},
   "outputs": [],
   "source": [
    "# Make a DataFrame of the Variance Reduction Results\n",
    "\n",
    "def calculateVRAmount(dfs):\n",
    "    headers = ['original_var_var', 'antithetic_var_var', 'difference_estim_var', '%_reduction_by_antithetic', '%_reduction_by_control']\n",
    "    index = ['Brooklyn-Bound-Control', 'Brooklyn-Bound-Extra-Trains', 'Brooklyn-Bound-Limit-People', 'Manhattan-Bound-Control', 'Manhattan-Bound-Extra-Trains', 'Manhattan-Bound-Limit-People']\n",
    "    # index = ['Brooklyn-Bound-Control', 'Brooklyn-Bound-Extra-Trains',  'Manhattan-Bound-Control', 'Manhattan-Bound-Extra-Trains']\n",
    "    df_total = pd.DataFrame(columns=headers, index=index)\n",
    "    for i in range(len(dfs)):\n",
    "        rowData = list()\n",
    "        rowData.append(dfs[i].sim_results.var())\n",
    "        rowData.append(dfs[i].sim_avg.var())\n",
    "        rowData.append(dfs[i].control_var.var())\n",
    "\n",
    "        # Percent Difference Calculation: antithetic\n",
    "        rowData.append( ((rowData[0] - rowData[1]) / rowData[0] ) * 100)\n",
    "        # Percent Difference Calculation: control\n",
    "        rowData.append( ((rowData[0] - rowData[2]) / rowData[0] ) * 100)\n",
    "        # Update the Cell values in df_total dataframe\n",
    "        df_total.iloc[i,:] = rowData\n",
    "\n",
    "    return df_total\n"
   ]
  },
  {
   "cell_type": "code",
   "execution_count": 7,
   "metadata": {},
   "outputs": [],
   "source": [
    "filenames = ['output-brooklynbound-control.csv', 'output-brooklynbound-extratrain.csv', 'output-brooklynbound-limitpeople.csv','output-manhattanbound-control.csv', 'output-manhattanbound-extratrain.csv', 'output-manhattanbound-limitpeople.csv']"
   ]
  },
  {
   "cell_type": "code",
   "execution_count": 8,
   "metadata": {},
   "outputs": [
    {
     "output_type": "stream",
     "name": "stdout",
     "text": [
      "sim_results              1.028311e-04\nsim_results_anti         1.073194e-04\ntotal_overpacked_time    1.768417e+08\nsim_avg                  9.816265e-05\ncontrol_var              3.947791e-05\ndtype: float64\nsim_results              8.785749e-05\nsim_results_anti         8.992849e-05\ntotal_overpacked_time    1.650597e+08\nsim_avg                  8.316578e-05\ncontrol_var              3.349377e-05\ndtype: float64\nsim_results              7.625988e-06\nsim_results_anti         6.624271e-06\ntotal_overpacked_time    1.328589e+08\nsim_avg                  6.266563e-06\ncontrol_var              3.620360e-06\ndtype: float64\nsim_results              3.319487e-04\nsim_results_anti         3.444146e-04\ntotal_overpacked_time    9.529417e+07\nsim_avg                  2.360964e-04\ncontrol_var              1.984959e-04\ndtype: float64\nsim_results              2.952593e-04\nsim_results_anti         3.505901e-04\ntotal_overpacked_time    9.792394e+07\nsim_avg                  2.318755e-04\ncontrol_var              1.820237e-04\ndtype: float64\nsim_results              9.037479e-06\nsim_results_anti         8.120808e-06\ntotal_overpacked_time    1.425637e+07\nsim_avg                  8.114908e-06\ncontrol_var              1.154988e-06\ndtype: float64\n"
     ]
    },
    {
     "output_type": "execute_result",
     "data": {
      "text/plain": [
       "                             original_var_var antithetic_var_var  \\\n",
       "Brooklyn-Bound-Control            0.000102831        9.81626e-05   \n",
       "Brooklyn-Bound-Extra-Trains       8.78575e-05        8.31658e-05   \n",
       "Brooklyn-Bound-Limit-People       7.62599e-06        6.26656e-06   \n",
       "Manhattan-Bound-Control           0.000331949        0.000236096   \n",
       "Manhattan-Bound-Extra-Trains      0.000295259        0.000231876   \n",
       "Manhattan-Bound-Limit-People      9.03748e-06        8.11491e-06   \n",
       "\n",
       "                             difference_estim_var %_reduction_by_antithetic  \\\n",
       "Brooklyn-Bound-Control                3.94779e-05                   4.53996   \n",
       "Brooklyn-Bound-Extra-Trains           3.34938e-05                   5.34014   \n",
       "Brooklyn-Bound-Limit-People           3.62036e-06                   17.8262   \n",
       "Manhattan-Bound-Control               0.000198496                   28.8756   \n",
       "Manhattan-Bound-Extra-Trains          0.000182024                   21.4672   \n",
       "Manhattan-Bound-Limit-People          1.15499e-06                   10.2083   \n",
       "\n",
       "                             %_reduction_by_control  \n",
       "Brooklyn-Bound-Control                       61.609  \n",
       "Brooklyn-Bound-Extra-Trains                 61.8772  \n",
       "Brooklyn-Bound-Limit-People                  52.526  \n",
       "Manhattan-Bound-Control                     40.2029  \n",
       "Manhattan-Bound-Extra-Trains                38.3513  \n",
       "Manhattan-Bound-Limit-People                  87.22  "
      ],
      "text/html": "<div>\n<style scoped>\n    .dataframe tbody tr th:only-of-type {\n        vertical-align: middle;\n    }\n\n    .dataframe tbody tr th {\n        vertical-align: top;\n    }\n\n    .dataframe thead th {\n        text-align: right;\n    }\n</style>\n<table border=\"1\" class=\"dataframe\">\n  <thead>\n    <tr style=\"text-align: right;\">\n      <th></th>\n      <th>original_var_var</th>\n      <th>antithetic_var_var</th>\n      <th>difference_estim_var</th>\n      <th>%_reduction_by_antithetic</th>\n      <th>%_reduction_by_control</th>\n    </tr>\n  </thead>\n  <tbody>\n    <tr>\n      <th>Brooklyn-Bound-Control</th>\n      <td>0.000102831</td>\n      <td>9.81626e-05</td>\n      <td>3.94779e-05</td>\n      <td>4.53996</td>\n      <td>61.609</td>\n    </tr>\n    <tr>\n      <th>Brooklyn-Bound-Extra-Trains</th>\n      <td>8.78575e-05</td>\n      <td>8.31658e-05</td>\n      <td>3.34938e-05</td>\n      <td>5.34014</td>\n      <td>61.8772</td>\n    </tr>\n    <tr>\n      <th>Brooklyn-Bound-Limit-People</th>\n      <td>7.62599e-06</td>\n      <td>6.26656e-06</td>\n      <td>3.62036e-06</td>\n      <td>17.8262</td>\n      <td>52.526</td>\n    </tr>\n    <tr>\n      <th>Manhattan-Bound-Control</th>\n      <td>0.000331949</td>\n      <td>0.000236096</td>\n      <td>0.000198496</td>\n      <td>28.8756</td>\n      <td>40.2029</td>\n    </tr>\n    <tr>\n      <th>Manhattan-Bound-Extra-Trains</th>\n      <td>0.000295259</td>\n      <td>0.000231876</td>\n      <td>0.000182024</td>\n      <td>21.4672</td>\n      <td>38.3513</td>\n    </tr>\n    <tr>\n      <th>Manhattan-Bound-Limit-People</th>\n      <td>9.03748e-06</td>\n      <td>8.11491e-06</td>\n      <td>1.15499e-06</td>\n      <td>10.2083</td>\n      <td>87.22</td>\n    </tr>\n  </tbody>\n</table>\n</div>"
     },
     "metadata": {},
     "execution_count": 8
    }
   ],
   "source": [
    "dfs = makeListOfDataFrames(filenames)\n",
    "df_total = calculateVRAmount(dfs)\n",
    "df_total"
   ]
  },
  {
   "cell_type": "code",
   "execution_count": 9,
   "metadata": {},
   "outputs": [
    {
     "output_type": "execute_result",
     "data": {
      "text/plain": [
       "                             original_var_var antithetic_var_var  \\\n",
       "Brooklyn-Bound-Control            0.000102831        9.81626e-05   \n",
       "Brooklyn-Bound-Extra-Trains       8.78575e-05        8.31658e-05   \n",
       "Brooklyn-Bound-Limit-People       7.62599e-06        6.26656e-06   \n",
       "Manhattan-Bound-Control           0.000331949        0.000236096   \n",
       "Manhattan-Bound-Extra-Trains      0.000295259        0.000231876   \n",
       "Manhattan-Bound-Limit-People      9.03748e-06        8.11491e-06   \n",
       "\n",
       "                             difference_estim_var %_reduction_by_antithetic  \\\n",
       "Brooklyn-Bound-Control                3.94779e-05                     4.54%   \n",
       "Brooklyn-Bound-Extra-Trains           3.34938e-05                     5.34%   \n",
       "Brooklyn-Bound-Limit-People           3.62036e-06                    17.83%   \n",
       "Manhattan-Bound-Control               0.000198496                    28.88%   \n",
       "Manhattan-Bound-Extra-Trains          0.000182024                    21.47%   \n",
       "Manhattan-Bound-Limit-People          1.15499e-06                    10.21%   \n",
       "\n",
       "                             %_reduction_by_control  \n",
       "Brooklyn-Bound-Control                       61.61%  \n",
       "Brooklyn-Bound-Extra-Trains                  61.88%  \n",
       "Brooklyn-Bound-Limit-People                  52.53%  \n",
       "Manhattan-Bound-Control                      40.20%  \n",
       "Manhattan-Bound-Extra-Trains                 38.35%  \n",
       "Manhattan-Bound-Limit-People                 87.22%  "
      ],
      "text/html": "<div>\n<style scoped>\n    .dataframe tbody tr th:only-of-type {\n        vertical-align: middle;\n    }\n\n    .dataframe tbody tr th {\n        vertical-align: top;\n    }\n\n    .dataframe thead th {\n        text-align: right;\n    }\n</style>\n<table border=\"1\" class=\"dataframe\">\n  <thead>\n    <tr style=\"text-align: right;\">\n      <th></th>\n      <th>original_var_var</th>\n      <th>antithetic_var_var</th>\n      <th>difference_estim_var</th>\n      <th>%_reduction_by_antithetic</th>\n      <th>%_reduction_by_control</th>\n    </tr>\n  </thead>\n  <tbody>\n    <tr>\n      <th>Brooklyn-Bound-Control</th>\n      <td>0.000102831</td>\n      <td>9.81626e-05</td>\n      <td>3.94779e-05</td>\n      <td>4.54%</td>\n      <td>61.61%</td>\n    </tr>\n    <tr>\n      <th>Brooklyn-Bound-Extra-Trains</th>\n      <td>8.78575e-05</td>\n      <td>8.31658e-05</td>\n      <td>3.34938e-05</td>\n      <td>5.34%</td>\n      <td>61.88%</td>\n    </tr>\n    <tr>\n      <th>Brooklyn-Bound-Limit-People</th>\n      <td>7.62599e-06</td>\n      <td>6.26656e-06</td>\n      <td>3.62036e-06</td>\n      <td>17.83%</td>\n      <td>52.53%</td>\n    </tr>\n    <tr>\n      <th>Manhattan-Bound-Control</th>\n      <td>0.000331949</td>\n      <td>0.000236096</td>\n      <td>0.000198496</td>\n      <td>28.88%</td>\n      <td>40.20%</td>\n    </tr>\n    <tr>\n      <th>Manhattan-Bound-Extra-Trains</th>\n      <td>0.000295259</td>\n      <td>0.000231876</td>\n      <td>0.000182024</td>\n      <td>21.47%</td>\n      <td>38.35%</td>\n    </tr>\n    <tr>\n      <th>Manhattan-Bound-Limit-People</th>\n      <td>9.03748e-06</td>\n      <td>8.11491e-06</td>\n      <td>1.15499e-06</td>\n      <td>10.21%</td>\n      <td>87.22%</td>\n    </tr>\n  </tbody>\n</table>\n</div>"
     },
     "metadata": {},
     "execution_count": 9
    }
   ],
   "source": [
    "df_total['%_reduction_by_antithetic'] = pd.Series([\"{0:.2f}%\".format(val) for val in df_total['%_reduction_by_antithetic']], index = df_total.index)\n",
    "df_total['%_reduction_by_control'] = pd.Series([\"{0:.2f}%\".format(val) for val in df_total['%_reduction_by_control']], index = df_total.index)\n",
    "df_total"
   ]
  }
 ]
}